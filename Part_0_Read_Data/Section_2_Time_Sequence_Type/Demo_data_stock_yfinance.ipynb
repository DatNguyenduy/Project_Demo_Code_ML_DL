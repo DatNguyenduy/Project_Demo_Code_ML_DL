{
 "cells": [
  {
   "cell_type": "markdown",
   "metadata": {},
   "source": [
    "# Demo: Getting the data stock daily update by using the yfinance library\n",
    "In this demo of code we use the yfinance library to obtain the daily update data stock.\n",
    "There are some package we will get in touch with:\n",
    "-   pandas\n",
    "-   yfinance\n",
    "-   datatime\n",
    "-   bs4\n",
    "-   requests"
   ]
  },
  {
   "cell_type": "code",
   "execution_count": 4,
   "metadata": {},
   "outputs": [],
   "source": [
    "# import package\n",
    "import pandas as pd\n",
    "from datetime import datetime\n",
    "from dateutil.relativedelta import relativedelta\n",
    "import requests\n",
    "from bs4 import BeautifulSoup\n",
    "import yfinance"
   ]
  },
  {
   "cell_type": "code",
   "execution_count": 5,
   "metadata": {},
   "outputs": [],
   "source": [
    "# Getting most n famous tickers: Company Name, Company Code\n",
    "n_tickers = 10\n",
    "html = requests.get('https://companiesmarketcap.com/tech/largest-tech-companies-by-market-cap/').text\n",
    "soup = BeautifulSoup(html, 'html.parser')\n",
    "companyName = [x.get_text(strip=True) for x in soup.find_all('div', {'class': 'company-name'})][:n_tickers]\n",
    "companyCode = [x.get_text(strip=True) for x in soup.find_all('div', {'class': 'company-code'})][:n_tickers]"
   ]
  },
  {
   "cell_type": "code",
   "execution_count": 6,
   "metadata": {},
   "outputs": [
    {
     "name": "stdout",
     "output_type": "stream",
     "text": [
      "['MSFT', 'AAPL', 'NVDA', 'AMZN', 'GOOG', 'META', 'TSM', 'AVGO', 'TSLA', 'ASML']\n"
     ]
    }
   ],
   "source": [
    "print(companyCode)"
   ]
  },
  {
   "cell_type": "code",
   "execution_count": 7,
   "metadata": {},
   "outputs": [
    {
     "name": "stdout",
     "output_type": "stream",
     "text": [
      "['Microsoft', 'Apple', 'NVIDIA', 'Amazon', 'Alphabet (Google)', 'Meta Platforms (Facebook)', 'TSMC', 'Broadcom', 'Tesla', 'ASML']\n"
     ]
    }
   ],
   "source": [
    "print(companyName)"
   ]
  },
  {
   "cell_type": "code",
   "execution_count": 8,
   "metadata": {},
   "outputs": [
    {
     "name": "stdout",
     "output_type": "stream",
     "text": [
      "2019-03-13 16:35:52.799270\n",
      "2024-03-13 16:35:52.799270\n"
     ]
    },
    {
     "name": "stderr",
     "output_type": "stream",
     "text": [
      "[*********************100%%**********************]  1 of 1 completed\n"
     ]
    }
   ],
   "source": [
    "# Getting stock data of Company Name: TSMC with Company Code: TSM\n",
    "\"\"\"\n",
    "-   start_date: start time to getting data stock\n",
    "-   end_data: end time to getting data stock\n",
    "-   data_source: where to getting data\n",
    "\"\"\"\n",
    "now = datetime.now()\n",
    "data_source = 'yahoo'\n",
    "start_date = now.today() - relativedelta(years  = 5)\n",
    "end_date = now.today()\n",
    "print(start_date)\n",
    "print(end_date)\n",
    "df_TSM = yfinance.download(\"TSM\",start=start_date,end=end_date)"
   ]
  },
  {
   "cell_type": "markdown",
   "metadata": {},
   "source": [
    "# Exploring the data:\n",
    "-   Type of data in python\n",
    "-   Metadata information\n",
    "-   Simple statistics of data\n",
    "-   Visualize data"
   ]
  },
  {
   "cell_type": "code",
   "execution_count": 9,
   "metadata": {},
   "outputs": [
    {
     "name": "stdout",
     "output_type": "stream",
     "text": [
      "<class 'pandas.core.frame.DataFrame'>\n"
     ]
    }
   ],
   "source": [
    "# Type of data after getting from yfinance:\n",
    "print(type(df_TSM))"
   ]
  },
  {
   "cell_type": "markdown",
   "metadata": {},
   "source": [
    "The type of data after getting from yfinance is DataFrame type in Pandas library"
   ]
  },
  {
   "cell_type": "code",
   "execution_count": 10,
   "metadata": {},
   "outputs": [
    {
     "name": "stdout",
     "output_type": "stream",
     "text": [
      "<class 'pandas.core.frame.DataFrame'>\n",
      "DatetimeIndex: 1259 entries, 2019-03-13 to 2024-03-12\n",
      "Data columns (total 6 columns):\n",
      " #   Column     Non-Null Count  Dtype  \n",
      "---  ------     --------------  -----  \n",
      " 0   Open       1259 non-null   float64\n",
      " 1   High       1259 non-null   float64\n",
      " 2   Low        1259 non-null   float64\n",
      " 3   Close      1259 non-null   float64\n",
      " 4   Adj Close  1259 non-null   float64\n",
      " 5   Volume     1259 non-null   int64  \n",
      "dtypes: float64(5), int64(1)\n",
      "memory usage: 68.9 KB\n"
     ]
    }
   ],
   "source": [
    "# Data info:\n",
    "df_TSM.info()"
   ]
  },
  {
   "cell_type": "markdown",
   "metadata": {},
   "source": [
    "There are 6 features for each row:\n",
    "-   One row is data for one day\n",
    "-   Each day: \n",
    "    -   Open: The price when the market opened in the morning\n",
    "    -   High: The highest price during that trading day\n",
    "    -   Low: The lowest price duing that trading day.\n",
    "    -   Close: The price when the market closed in the afternoon\n",
    "    -   Adj Close: A price adjusted to make prices comparable over time\n",
    "    -   Volumn: Number of shares of the stock traded that day."
   ]
  },
  {
   "cell_type": "code",
   "execution_count": 11,
   "metadata": {},
   "outputs": [
    {
     "data": {
      "text/html": [
       "<div>\n",
       "<style scoped>\n",
       "    .dataframe tbody tr th:only-of-type {\n",
       "        vertical-align: middle;\n",
       "    }\n",
       "\n",
       "    .dataframe tbody tr th {\n",
       "        vertical-align: top;\n",
       "    }\n",
       "\n",
       "    .dataframe thead th {\n",
       "        text-align: right;\n",
       "    }\n",
       "</style>\n",
       "<table border=\"1\" class=\"dataframe\">\n",
       "  <thead>\n",
       "    <tr style=\"text-align: right;\">\n",
       "      <th></th>\n",
       "      <th>Open</th>\n",
       "      <th>High</th>\n",
       "      <th>Low</th>\n",
       "      <th>Close</th>\n",
       "      <th>Adj Close</th>\n",
       "      <th>Volume</th>\n",
       "    </tr>\n",
       "  </thead>\n",
       "  <tbody>\n",
       "    <tr>\n",
       "      <th>count</th>\n",
       "      <td>1259.000000</td>\n",
       "      <td>1259.000000</td>\n",
       "      <td>1259.000000</td>\n",
       "      <td>1259.000000</td>\n",
       "      <td>1259.000000</td>\n",
       "      <td>1.259000e+03</td>\n",
       "    </tr>\n",
       "    <tr>\n",
       "      <th>mean</th>\n",
       "      <td>86.537879</td>\n",
       "      <td>87.509245</td>\n",
       "      <td>85.499094</td>\n",
       "      <td>86.481589</td>\n",
       "      <td>82.893319</td>\n",
       "      <td>1.032928e+07</td>\n",
       "    </tr>\n",
       "    <tr>\n",
       "      <th>std</th>\n",
       "      <td>27.685766</td>\n",
       "      <td>28.041878</td>\n",
       "      <td>27.219391</td>\n",
       "      <td>27.588305</td>\n",
       "      <td>27.525480</td>\n",
       "      <td>5.579354e+06</td>\n",
       "    </tr>\n",
       "    <tr>\n",
       "      <th>min</th>\n",
       "      <td>37.459999</td>\n",
       "      <td>37.750000</td>\n",
       "      <td>37.180000</td>\n",
       "      <td>37.650002</td>\n",
       "      <td>33.099731</td>\n",
       "      <td>2.490400e+06</td>\n",
       "    </tr>\n",
       "    <tr>\n",
       "      <th>25%</th>\n",
       "      <td>58.650000</td>\n",
       "      <td>58.980000</td>\n",
       "      <td>58.075001</td>\n",
       "      <td>58.500000</td>\n",
       "      <td>53.738413</td>\n",
       "      <td>6.897750e+06</td>\n",
       "    </tr>\n",
       "    <tr>\n",
       "      <th>50%</th>\n",
       "      <td>89.040001</td>\n",
       "      <td>90.239998</td>\n",
       "      <td>88.419998</td>\n",
       "      <td>89.290001</td>\n",
       "      <td>87.228920</td>\n",
       "      <td>9.169200e+06</td>\n",
       "    </tr>\n",
       "    <tr>\n",
       "      <th>75%</th>\n",
       "      <td>110.080002</td>\n",
       "      <td>111.709999</td>\n",
       "      <td>109.039997</td>\n",
       "      <td>110.449997</td>\n",
       "      <td>105.422398</td>\n",
       "      <td>1.193710e+07</td>\n",
       "    </tr>\n",
       "    <tr>\n",
       "      <th>max</th>\n",
       "      <td>153.899994</td>\n",
       "      <td>158.399994</td>\n",
       "      <td>144.929993</td>\n",
       "      <td>149.199997</td>\n",
       "      <td>149.199997</td>\n",
       "      <td>6.079320e+07</td>\n",
       "    </tr>\n",
       "  </tbody>\n",
       "</table>\n",
       "</div>"
      ],
      "text/plain": [
       "              Open         High          Low        Close    Adj Close  \\\n",
       "count  1259.000000  1259.000000  1259.000000  1259.000000  1259.000000   \n",
       "mean     86.537879    87.509245    85.499094    86.481589    82.893319   \n",
       "std      27.685766    28.041878    27.219391    27.588305    27.525480   \n",
       "min      37.459999    37.750000    37.180000    37.650002    33.099731   \n",
       "25%      58.650000    58.980000    58.075001    58.500000    53.738413   \n",
       "50%      89.040001    90.239998    88.419998    89.290001    87.228920   \n",
       "75%     110.080002   111.709999   109.039997   110.449997   105.422398   \n",
       "max     153.899994   158.399994   144.929993   149.199997   149.199997   \n",
       "\n",
       "             Volume  \n",
       "count  1.259000e+03  \n",
       "mean   1.032928e+07  \n",
       "std    5.579354e+06  \n",
       "min    2.490400e+06  \n",
       "25%    6.897750e+06  \n",
       "50%    9.169200e+06  \n",
       "75%    1.193710e+07  \n",
       "max    6.079320e+07  "
      ]
     },
     "execution_count": 11,
     "metadata": {},
     "output_type": "execute_result"
    }
   ],
   "source": [
    "# Data simple statistics:\n",
    "df_TSM.describe()"
   ]
  },
  {
   "cell_type": "markdown",
   "metadata": {},
   "source": [
    "Read result in Open column:\n",
    "-   count: number of samples (items,...)\n",
    "-   mean: Average values of open values column\n",
    "-   std: Standar deviation of open values column\n",
    "-   min:  Minimal open values\n",
    "-   25%: price_value -> P(open_value $\\leq$ price_value) = 0.25 (The probability of open value less than or equal p1 is 0.25)\n",
    "-   50%, 75%, similarly 25%\n",
    "-   max: Maximal open values"
   ]
  },
  {
   "cell_type": "code",
   "execution_count": 12,
   "metadata": {},
   "outputs": [
    {
     "data": {
      "text/html": [
       "<div>\n",
       "<style scoped>\n",
       "    .dataframe tbody tr th:only-of-type {\n",
       "        vertical-align: middle;\n",
       "    }\n",
       "\n",
       "    .dataframe tbody tr th {\n",
       "        vertical-align: top;\n",
       "    }\n",
       "\n",
       "    .dataframe thead th {\n",
       "        text-align: right;\n",
       "    }\n",
       "</style>\n",
       "<table border=\"1\" class=\"dataframe\">\n",
       "  <thead>\n",
       "    <tr style=\"text-align: right;\">\n",
       "      <th></th>\n",
       "      <th>Open</th>\n",
       "      <th>High</th>\n",
       "      <th>Low</th>\n",
       "      <th>Close</th>\n",
       "      <th>Adj Close</th>\n",
       "      <th>Volume</th>\n",
       "    </tr>\n",
       "    <tr>\n",
       "      <th>Date</th>\n",
       "      <th></th>\n",
       "      <th></th>\n",
       "      <th></th>\n",
       "      <th></th>\n",
       "      <th></th>\n",
       "      <th></th>\n",
       "    </tr>\n",
       "  </thead>\n",
       "  <tbody>\n",
       "    <tr>\n",
       "      <th>2019-03-13</th>\n",
       "      <td>39.220001</td>\n",
       "      <td>39.439999</td>\n",
       "      <td>39.020000</td>\n",
       "      <td>39.209999</td>\n",
       "      <td>34.471203</td>\n",
       "      <td>6086400</td>\n",
       "    </tr>\n",
       "    <tr>\n",
       "      <th>2019-03-14</th>\n",
       "      <td>39.000000</td>\n",
       "      <td>39.049999</td>\n",
       "      <td>38.740002</td>\n",
       "      <td>38.820000</td>\n",
       "      <td>34.128342</td>\n",
       "      <td>4935000</td>\n",
       "    </tr>\n",
       "    <tr>\n",
       "      <th>2019-03-15</th>\n",
       "      <td>39.410000</td>\n",
       "      <td>40.070000</td>\n",
       "      <td>39.410000</td>\n",
       "      <td>39.650002</td>\n",
       "      <td>34.858028</td>\n",
       "      <td>8871300</td>\n",
       "    </tr>\n",
       "    <tr>\n",
       "      <th>2019-03-18</th>\n",
       "      <td>39.860001</td>\n",
       "      <td>39.980000</td>\n",
       "      <td>39.639999</td>\n",
       "      <td>39.849998</td>\n",
       "      <td>35.033852</td>\n",
       "      <td>6290900</td>\n",
       "    </tr>\n",
       "    <tr>\n",
       "      <th>2019-03-19</th>\n",
       "      <td>39.980000</td>\n",
       "      <td>40.080002</td>\n",
       "      <td>39.599998</td>\n",
       "      <td>39.759998</td>\n",
       "      <td>34.954735</td>\n",
       "      <td>8033600</td>\n",
       "    </tr>\n",
       "    <tr>\n",
       "      <th>2019-03-20</th>\n",
       "      <td>39.770000</td>\n",
       "      <td>40.150002</td>\n",
       "      <td>39.639999</td>\n",
       "      <td>39.849998</td>\n",
       "      <td>35.033852</td>\n",
       "      <td>5394000</td>\n",
       "    </tr>\n",
       "    <tr>\n",
       "      <th>2019-03-21</th>\n",
       "      <td>40.250000</td>\n",
       "      <td>41.240002</td>\n",
       "      <td>40.220001</td>\n",
       "      <td>41.040001</td>\n",
       "      <td>36.080032</td>\n",
       "      <td>6509600</td>\n",
       "    </tr>\n",
       "    <tr>\n",
       "      <th>2019-03-22</th>\n",
       "      <td>40.840000</td>\n",
       "      <td>41.020000</td>\n",
       "      <td>40.340000</td>\n",
       "      <td>40.430000</td>\n",
       "      <td>35.543758</td>\n",
       "      <td>6759100</td>\n",
       "    </tr>\n",
       "    <tr>\n",
       "      <th>2019-03-25</th>\n",
       "      <td>40.000000</td>\n",
       "      <td>40.459999</td>\n",
       "      <td>39.770000</td>\n",
       "      <td>39.919998</td>\n",
       "      <td>35.095390</td>\n",
       "      <td>4901800</td>\n",
       "    </tr>\n",
       "    <tr>\n",
       "      <th>2019-03-26</th>\n",
       "      <td>40.110001</td>\n",
       "      <td>40.630001</td>\n",
       "      <td>40.070000</td>\n",
       "      <td>40.400002</td>\n",
       "      <td>35.517391</td>\n",
       "      <td>5573500</td>\n",
       "    </tr>\n",
       "  </tbody>\n",
       "</table>\n",
       "</div>"
      ],
      "text/plain": [
       "                 Open       High        Low      Close  Adj Close   Volume\n",
       "Date                                                                      \n",
       "2019-03-13  39.220001  39.439999  39.020000  39.209999  34.471203  6086400\n",
       "2019-03-14  39.000000  39.049999  38.740002  38.820000  34.128342  4935000\n",
       "2019-03-15  39.410000  40.070000  39.410000  39.650002  34.858028  8871300\n",
       "2019-03-18  39.860001  39.980000  39.639999  39.849998  35.033852  6290900\n",
       "2019-03-19  39.980000  40.080002  39.599998  39.759998  34.954735  8033600\n",
       "2019-03-20  39.770000  40.150002  39.639999  39.849998  35.033852  5394000\n",
       "2019-03-21  40.250000  41.240002  40.220001  41.040001  36.080032  6509600\n",
       "2019-03-22  40.840000  41.020000  40.340000  40.430000  35.543758  6759100\n",
       "2019-03-25  40.000000  40.459999  39.770000  39.919998  35.095390  4901800\n",
       "2019-03-26  40.110001  40.630001  40.070000  40.400002  35.517391  5573500"
      ]
     },
     "execution_count": 12,
     "metadata": {},
     "output_type": "execute_result"
    }
   ],
   "source": [
    "# Showing first ten rows in our dataframe\n",
    "df_TSM.head(10)"
   ]
  },
  {
   "cell_type": "code",
   "execution_count": 13,
   "metadata": {},
   "outputs": [],
   "source": [
    "df_TSM[\"Y_price\"] = (df_TSM[\"Open\"] + df_TSM[\"Close\"])/2\n",
    "df_TSM[\"Y_error\"] = (df_TSM[\"Open\"] - df_TSM[\"Close\"]).abs()/2\n",
    "df_TSM[\"HL\"] = (df_TSM[\"High\"] + df_TSM[\"Low\"])/2\n",
    "df_TSM[\"HL_error\"] = (df_TSM[\"High\"] - df_TSM[\"Low\"]).abs()/2\n",
    "df_TSM[\"IsPositive\"] = df_TSM[\"Close\"] >= df_TSM[\"Open\"]"
   ]
  },
  {
   "cell_type": "code",
   "execution_count": 14,
   "metadata": {},
   "outputs": [
    {
     "data": {
      "text/html": [
       "<div>\n",
       "<style scoped>\n",
       "    .dataframe tbody tr th:only-of-type {\n",
       "        vertical-align: middle;\n",
       "    }\n",
       "\n",
       "    .dataframe tbody tr th {\n",
       "        vertical-align: top;\n",
       "    }\n",
       "\n",
       "    .dataframe thead th {\n",
       "        text-align: right;\n",
       "    }\n",
       "</style>\n",
       "<table border=\"1\" class=\"dataframe\">\n",
       "  <thead>\n",
       "    <tr style=\"text-align: right;\">\n",
       "      <th></th>\n",
       "      <th>Open</th>\n",
       "      <th>High</th>\n",
       "      <th>Low</th>\n",
       "      <th>Close</th>\n",
       "      <th>Adj Close</th>\n",
       "      <th>Volume</th>\n",
       "      <th>Y_price</th>\n",
       "      <th>Y_error</th>\n",
       "      <th>HL</th>\n",
       "      <th>HL_error</th>\n",
       "      <th>IsPositive</th>\n",
       "    </tr>\n",
       "    <tr>\n",
       "      <th>Date</th>\n",
       "      <th></th>\n",
       "      <th></th>\n",
       "      <th></th>\n",
       "      <th></th>\n",
       "      <th></th>\n",
       "      <th></th>\n",
       "      <th></th>\n",
       "      <th></th>\n",
       "      <th></th>\n",
       "      <th></th>\n",
       "      <th></th>\n",
       "    </tr>\n",
       "  </thead>\n",
       "  <tbody>\n",
       "    <tr>\n",
       "      <th>2019-03-13</th>\n",
       "      <td>39.220001</td>\n",
       "      <td>39.439999</td>\n",
       "      <td>39.020000</td>\n",
       "      <td>39.209999</td>\n",
       "      <td>34.471203</td>\n",
       "      <td>6086400</td>\n",
       "      <td>39.215000</td>\n",
       "      <td>0.005001</td>\n",
       "      <td>39.230000</td>\n",
       "      <td>0.209999</td>\n",
       "      <td>False</td>\n",
       "    </tr>\n",
       "    <tr>\n",
       "      <th>2019-03-14</th>\n",
       "      <td>39.000000</td>\n",
       "      <td>39.049999</td>\n",
       "      <td>38.740002</td>\n",
       "      <td>38.820000</td>\n",
       "      <td>34.128342</td>\n",
       "      <td>4935000</td>\n",
       "      <td>38.910000</td>\n",
       "      <td>0.090000</td>\n",
       "      <td>38.895000</td>\n",
       "      <td>0.154999</td>\n",
       "      <td>False</td>\n",
       "    </tr>\n",
       "    <tr>\n",
       "      <th>2019-03-15</th>\n",
       "      <td>39.410000</td>\n",
       "      <td>40.070000</td>\n",
       "      <td>39.410000</td>\n",
       "      <td>39.650002</td>\n",
       "      <td>34.858028</td>\n",
       "      <td>8871300</td>\n",
       "      <td>39.530001</td>\n",
       "      <td>0.120001</td>\n",
       "      <td>39.740000</td>\n",
       "      <td>0.330000</td>\n",
       "      <td>True</td>\n",
       "    </tr>\n",
       "    <tr>\n",
       "      <th>2019-03-18</th>\n",
       "      <td>39.860001</td>\n",
       "      <td>39.980000</td>\n",
       "      <td>39.639999</td>\n",
       "      <td>39.849998</td>\n",
       "      <td>35.033852</td>\n",
       "      <td>6290900</td>\n",
       "      <td>39.855000</td>\n",
       "      <td>0.005001</td>\n",
       "      <td>39.809999</td>\n",
       "      <td>0.170000</td>\n",
       "      <td>False</td>\n",
       "    </tr>\n",
       "    <tr>\n",
       "      <th>2019-03-19</th>\n",
       "      <td>39.980000</td>\n",
       "      <td>40.080002</td>\n",
       "      <td>39.599998</td>\n",
       "      <td>39.759998</td>\n",
       "      <td>34.954735</td>\n",
       "      <td>8033600</td>\n",
       "      <td>39.869999</td>\n",
       "      <td>0.110001</td>\n",
       "      <td>39.840000</td>\n",
       "      <td>0.240002</td>\n",
       "      <td>False</td>\n",
       "    </tr>\n",
       "  </tbody>\n",
       "</table>\n",
       "</div>"
      ],
      "text/plain": [
       "                 Open       High        Low      Close  Adj Close   Volume  \\\n",
       "Date                                                                         \n",
       "2019-03-13  39.220001  39.439999  39.020000  39.209999  34.471203  6086400   \n",
       "2019-03-14  39.000000  39.049999  38.740002  38.820000  34.128342  4935000   \n",
       "2019-03-15  39.410000  40.070000  39.410000  39.650002  34.858028  8871300   \n",
       "2019-03-18  39.860001  39.980000  39.639999  39.849998  35.033852  6290900   \n",
       "2019-03-19  39.980000  40.080002  39.599998  39.759998  34.954735  8033600   \n",
       "\n",
       "              Y_price   Y_error         HL  HL_error  IsPositive  \n",
       "Date                                                              \n",
       "2019-03-13  39.215000  0.005001  39.230000  0.209999       False  \n",
       "2019-03-14  38.910000  0.090000  38.895000  0.154999       False  \n",
       "2019-03-15  39.530001  0.120001  39.740000  0.330000        True  \n",
       "2019-03-18  39.855000  0.005001  39.809999  0.170000       False  \n",
       "2019-03-19  39.869999  0.110001  39.840000  0.240002       False  "
      ]
     },
     "execution_count": 14,
     "metadata": {},
     "output_type": "execute_result"
    }
   ],
   "source": [
    "df_TSM.head()"
   ]
  },
  {
   "cell_type": "code",
   "execution_count": 15,
   "metadata": {},
   "outputs": [],
   "source": [
    "plot_df_TSM = df_TSM.tail(100)"
   ]
  },
  {
   "cell_type": "code",
   "execution_count": 16,
   "metadata": {},
   "outputs": [
    {
     "data": {
      "text/plain": [
       "Date\n",
       "2023-10-18     True\n",
       "2023-10-19    False\n",
       "2023-10-20    False\n",
       "2023-10-23     True\n",
       "2023-10-24     True\n",
       "              ...  \n",
       "2024-03-06     True\n",
       "2024-03-07     True\n",
       "2024-03-08    False\n",
       "2024-03-11    False\n",
       "2024-03-12    False\n",
       "Name: IsPositive, Length: 100, dtype: bool"
      ]
     },
     "execution_count": 16,
     "metadata": {},
     "output_type": "execute_result"
    }
   ],
   "source": [
    "plot_df_TSM[\"IsPositive\"]"
   ]
  },
  {
   "cell_type": "code",
   "execution_count": 17,
   "metadata": {},
   "outputs": [
    {
     "data": {
      "image/png": "[encoded data removed]",
      "text/plain": [
       "<Figure size 1500x500 with 1 Axes>"
      ]
     },
     "metadata": {},
     "output_type": "display_data"
    }
   ],
   "source": [
    "# Visualize data\n",
    "# Plot graph of time-series data type\n",
    "from matplotlib import pyplot as plt\n",
    "import matplotlib\n",
    "\n",
    "colors = {True:'red',False:'green'}\n",
    "\n",
    "fig, ax = plt.subplots(1,1,figsize = (15,5))\n",
    "# ax.plot(plot_df_TSM.index.tolist(),plot_df_TSM[\"Open\"],color='g')\n",
    "# ax.plot(plot_df_TSM.index.tolist(),plot_df_TSM[\"Close\"],color='red')\n",
    "ax.errorbar(plot_df_TSM.index.tolist(),\n",
    "            plot_df_TSM[\"Y_price\"],\n",
    "            plot_df_TSM[\"Y_error\"],\n",
    "            linewidth = 5, \n",
    "            capsize=0,\n",
    "            ls='none',\n",
    "            ecolor = plot_df_TSM['IsPositive'].map(colors))\n",
    "ax.errorbar(plot_df_TSM.index.tolist(),plot_df_TSM[\"HL\"],plot_df_TSM[\"HL_error\"],linewidth = 1, capsize=3,color='k',ls='none')\n",
    "fig.suptitle(\"Graph of open value with time value_open = f(date_time)\")\n",
    "ax.set_xlabel(\"Date_time\")\n",
    "ax.set_ylabel(\"Open\")\n",
    "ax.set_xticks(plot_df_TSM.index.tolist()[::5]) #Without this it is too dense, with this we only display every after 60 xticks\n",
    "ax.set_xticklabels(ax.get_xticklabels(),rotation = 40, ha = 'center')# Shearing the labels to 40 degree and write it in center\n",
    "plt.show()"
   ]
  },
  {
   "cell_type": "markdown",
   "metadata": {},
   "source": [
    "cumulative_mean = df_TSM['Close'].expanding().mean() # Calculate cumulative average of the Close column"
   ]
  }
 ],
 "metadata": {
  "kernelspec": {
   "display_name": "ASINK_Demo",
   "language": "python",
   "name": "python3"
  },
  "language_info": {
   "codemirror_mode": {
    "name": "ipython",
    "version": 3
   },
   "file_extension": ".py",
   "mimetype": "text/x-python",
   "name": "python",
   "nbconvert_exporter": "python",
   "pygments_lexer": "ipython3",
   "version": "3.11.8"
  }
 },
 "nbformat": 4,
 "nbformat_minor": 2
}
